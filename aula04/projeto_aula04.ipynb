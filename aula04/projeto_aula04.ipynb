{
 "cells": [
  {
   "cell_type": "markdown",
   "id": "0cf6f705-6515-4677-a260-8a3733b99000",
   "metadata": {},
   "source": [
    "## Projeto: Busca Binária"
   ]
  },
  {
   "cell_type": "code",
   "execution_count": 12,
   "id": "00aed3c3-5847-4a27-9977-61f9b7238de9",
   "metadata": {},
   "outputs": [],
   "source": [
    "livros = [(\"A Revolução dos Bichos\", \"George Owell\", 1945), (\"Cem Anos de Solidão\", \"Gabriel García Márquez\", 1967), (\"Dom casmurro\", \"Machado de Assis\", 1899), (\"O Pequeno Príncipe\", \"Antoine de Saint-Exupéry\", 1943), (\"Orgulho e Preconceito\", \"Jane Austen\", 1913)]"
   ]
  },
  {
   "cell_type": "code",
   "execution_count": 15,
   "id": "d3131328-4832-4205-9e09-8e5d19d058cc",
   "metadata": {},
   "outputs": [],
   "source": [
    "def busca_livro(livros, titulo):\n",
    "    inicio = 0\n",
    "    fim = len(livros) - 1\n",
    "    while inicio <= fim:\n",
    "        meio = (fim+inicio) // 2\n",
    "        if livros[meio][0].lower() == titulo.lower():\n",
    "            return meio\n",
    "        elif livros[meio][0].lower() < titulo.lower():\n",
    "            fim = meio + 1\n",
    "        else:\n",
    "            inicio = meio - 1\n",
    "    return None        "
   ]
  },
  {
   "cell_type": "code",
   "execution_count": 16,
   "id": "12554d54-0ab2-4915-af63-b8329caee6ec",
   "metadata": {},
   "outputs": [
    {
     "name": "stdin",
     "output_type": "stream",
     "text": [
      "Digite o nome do livro desejado:  dom casmurro\n"
     ]
    },
    {
     "name": "stdout",
     "output_type": "stream",
     "text": [
      "Livro encontrado: ('Dom casmurro', 'Machado de Assis', 1899)\n"
     ]
    }
   ],
   "source": [
    "busque = input(\"Digite o nome do livro desejado: \")\n",
    "ache = busca_livro(livros, busque)\n",
    "\n",
    "if ache:\n",
    "    print(f\"Livro encontrado: {livros[ache]}\")\n",
    "else:\n",
    "    print(f\"O livro desejado: '{busque}' não foi encontrado\")"
   ]
  },
  {
   "cell_type": "code",
   "execution_count": null,
   "id": "cef4e285-a804-4190-a173-acc83f02d3ba",
   "metadata": {},
   "outputs": [],
   "source": []
  }
 ],
 "metadata": {
  "kernelspec": {
   "display_name": "Python 3 (ipykernel)",
   "language": "python",
   "name": "python3"
  },
  "language_info": {
   "codemirror_mode": {
    "name": "ipython",
    "version": 3
   },
   "file_extension": ".py",
   "mimetype": "text/x-python",
   "name": "python",
   "nbconvert_exporter": "python",
   "pygments_lexer": "ipython3",
   "version": "3.13.5"
  }
 },
 "nbformat": 4,
 "nbformat_minor": 5
}
