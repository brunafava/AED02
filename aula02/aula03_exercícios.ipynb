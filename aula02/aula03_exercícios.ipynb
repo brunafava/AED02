{
 "cells": [
  {
   "cell_type": "code",
   "execution_count": 22,
   "id": "bd6eb55f-c9ea-4855-81dd-d55eff752118",
   "metadata": {},
   "outputs": [],
   "source": [
    "# Exercício 4: Método 1\n",
    "def buscar_cliente(nome,lista):\n",
    "    for i in range(len(lista)):\n",
    "        if lista[i].lower() == nome.lower():\n",
    "            return i\n",
    "    return -1"
   ]
  },
  {
   "cell_type": "code",
   "execution_count": 23,
   "id": "1bf4f072-6d23-4558-9f49-7f91824f8c63",
   "metadata": {
    "scrolled": true
   },
   "outputs": [],
   "source": [
    "clientes = [\"bruna\",\"carla\",\"mariana\",\"yan\",\"joao\",\"felipe\"]"
   ]
  },
  {
   "cell_type": "code",
   "execution_count": 24,
   "id": "09b9d811-4954-42d7-aa7a-62814554de8b",
   "metadata": {},
   "outputs": [
    {
     "name": "stdin",
     "output_type": "stream",
     "text": [
      "Digite o nome: Bruna\n"
     ]
    }
   ],
   "source": [
    "n = input(\"Digite o nome:\")"
   ]
  },
  {
   "cell_type": "code",
   "execution_count": 25,
   "id": "75c0d194-92e2-4d7c-94d6-bed774d7e8ff",
   "metadata": {},
   "outputs": [
    {
     "name": "stdout",
     "output_type": "stream",
     "text": [
      "O nome Bruna foi encontrado na posição 0\n"
     ]
    }
   ],
   "source": [
    "i = buscar_cliente(n,clientes)\n",
    "if i == -1:\n",
    "    print(\"Nome não encontrado\")\n",
    "else:\n",
    "    print(f\"O nome {n} foi encontrado na posição {i}\")"
   ]
  },
  {
   "cell_type": "code",
   "execution_count": 26,
   "id": "193f0f25-9410-4fd7-a985-67acc04c9b5e",
   "metadata": {},
   "outputs": [],
   "source": [
    "clientes = [\"bruna\",\"carla\",\"mariana\",\"yan\",\"joao\",\"felipe\"]"
   ]
  },
  {
   "cell_type": "code",
   "execution_count": 27,
   "id": "43918746-75d4-4f93-970a-2871a9ba994e",
   "metadata": {},
   "outputs": [
    {
     "name": "stdin",
     "output_type": "stream",
     "text": [
      "Digite o nome <'sair' para sair>: Yan\n"
     ]
    },
    {
     "name": "stdout",
     "output_type": "stream",
     "text": [
      "O nomeYan foi encontrado na posição 3\n"
     ]
    },
    {
     "name": "stdin",
     "output_type": "stream",
     "text": [
      "Digite o nome <'sair' para sair>: Ana\n"
     ]
    },
    {
     "name": "stdout",
     "output_type": "stream",
     "text": [
      "Nome não encontrado\n"
     ]
    },
    {
     "ename": "KeyboardInterrupt",
     "evalue": "Interrupted by user",
     "output_type": "error",
     "traceback": [
      "\u001b[1;31m---------------------------------------------------------------------------\u001b[0m",
      "\u001b[1;31mKeyboardInterrupt\u001b[0m                         Traceback (most recent call last)",
      "Cell \u001b[1;32mIn[27], line 3\u001b[0m\n\u001b[0;32m      1\u001b[0m \u001b[38;5;66;03m# Exercício 4: Método 2\u001b[39;00m\n\u001b[0;32m      2\u001b[0m \u001b[38;5;28;01mwhile\u001b[39;00m \u001b[38;5;28;01mTrue\u001b[39;00m:\n\u001b[1;32m----> 3\u001b[0m     n \u001b[38;5;241m=\u001b[39m \u001b[38;5;28minput\u001b[39m(\u001b[38;5;124m\"\u001b[39m\u001b[38;5;124mDigite o nome <\u001b[39m\u001b[38;5;124m'\u001b[39m\u001b[38;5;124msair\u001b[39m\u001b[38;5;124m'\u001b[39m\u001b[38;5;124m para sair>:\u001b[39m\u001b[38;5;124m\"\u001b[39m)\n\u001b[0;32m      4\u001b[0m     \u001b[38;5;28;01mif\u001b[39;00m n\u001b[38;5;241m.\u001b[39mlower \u001b[38;5;241m==\u001b[39m \u001b[38;5;124m\"\u001b[39m\u001b[38;5;124msair\u001b[39m\u001b[38;5;124m\"\u001b[39m:\n\u001b[0;32m      5\u001b[0m         \u001b[38;5;28;01mbreak\u001b[39;00m\n",
      "File \u001b[1;32m~\\anaconda3\\Lib\\site-packages\\ipykernel\\kernelbase.py:1282\u001b[0m, in \u001b[0;36mKernel.raw_input\u001b[1;34m(self, prompt)\u001b[0m\n\u001b[0;32m   1280\u001b[0m     msg \u001b[38;5;241m=\u001b[39m \u001b[38;5;124m\"\u001b[39m\u001b[38;5;124mraw_input was called, but this frontend does not support input requests.\u001b[39m\u001b[38;5;124m\"\u001b[39m\n\u001b[0;32m   1281\u001b[0m     \u001b[38;5;28;01mraise\u001b[39;00m StdinNotImplementedError(msg)\n\u001b[1;32m-> 1282\u001b[0m \u001b[38;5;28;01mreturn\u001b[39;00m \u001b[38;5;28mself\u001b[39m\u001b[38;5;241m.\u001b[39m_input_request(\n\u001b[0;32m   1283\u001b[0m     \u001b[38;5;28mstr\u001b[39m(prompt),\n\u001b[0;32m   1284\u001b[0m     \u001b[38;5;28mself\u001b[39m\u001b[38;5;241m.\u001b[39m_parent_ident[\u001b[38;5;124m\"\u001b[39m\u001b[38;5;124mshell\u001b[39m\u001b[38;5;124m\"\u001b[39m],\n\u001b[0;32m   1285\u001b[0m     \u001b[38;5;28mself\u001b[39m\u001b[38;5;241m.\u001b[39mget_parent(\u001b[38;5;124m\"\u001b[39m\u001b[38;5;124mshell\u001b[39m\u001b[38;5;124m\"\u001b[39m),\n\u001b[0;32m   1286\u001b[0m     password\u001b[38;5;241m=\u001b[39m\u001b[38;5;28;01mFalse\u001b[39;00m,\n\u001b[0;32m   1287\u001b[0m )\n",
      "File \u001b[1;32m~\\anaconda3\\Lib\\site-packages\\ipykernel\\kernelbase.py:1325\u001b[0m, in \u001b[0;36mKernel._input_request\u001b[1;34m(self, prompt, ident, parent, password)\u001b[0m\n\u001b[0;32m   1322\u001b[0m \u001b[38;5;28;01mexcept\u001b[39;00m \u001b[38;5;167;01mKeyboardInterrupt\u001b[39;00m:\n\u001b[0;32m   1323\u001b[0m     \u001b[38;5;66;03m# re-raise KeyboardInterrupt, to truncate traceback\u001b[39;00m\n\u001b[0;32m   1324\u001b[0m     msg \u001b[38;5;241m=\u001b[39m \u001b[38;5;124m\"\u001b[39m\u001b[38;5;124mInterrupted by user\u001b[39m\u001b[38;5;124m\"\u001b[39m\n\u001b[1;32m-> 1325\u001b[0m     \u001b[38;5;28;01mraise\u001b[39;00m \u001b[38;5;167;01mKeyboardInterrupt\u001b[39;00m(msg) \u001b[38;5;28;01mfrom\u001b[39;00m\u001b[38;5;250m \u001b[39m\u001b[38;5;28;01mNone\u001b[39;00m\n\u001b[0;32m   1326\u001b[0m \u001b[38;5;28;01mexcept\u001b[39;00m \u001b[38;5;167;01mException\u001b[39;00m:\n\u001b[0;32m   1327\u001b[0m     \u001b[38;5;28mself\u001b[39m\u001b[38;5;241m.\u001b[39mlog\u001b[38;5;241m.\u001b[39mwarning(\u001b[38;5;124m\"\u001b[39m\u001b[38;5;124mInvalid Message:\u001b[39m\u001b[38;5;124m\"\u001b[39m, exc_info\u001b[38;5;241m=\u001b[39m\u001b[38;5;28;01mTrue\u001b[39;00m)\n",
      "\u001b[1;31mKeyboardInterrupt\u001b[0m: Interrupted by user"
     ]
    }
   ],
   "source": [
    "# Exercício 4: Método 2\n",
    "while True:\n",
    "    n = input(\"Digite o nome <'sair' para sair>:\")\n",
    "    if n.lower == \"sair\":\n",
    "        break\n",
    "    else:\n",
    "        i = buscar_cliente(n,clientes)\n",
    "        if i == -1:\n",
    "            print(\"Nome não encontrado\")\n",
    "        else:\n",
    "            print(f\"O nome{n} foi encontrado na posição {i}\")       \n",
    "        "
   ]
  },
  {
   "cell_type": "code",
   "execution_count": 40,
   "id": "d69eb295-425e-45d6-8ca4-6640741fb2c4",
   "metadata": {},
   "outputs": [],
   "source": [
    "# Projeto 2: Verificando a lista de convidados\n",
    "def buscar_convidado(nome,convidados):\n",
    "    for i in range(len(convidados)):\n",
    "        if convidados[i].lower() == nome.lower():\n",
    "            return i\n",
    "    return -1"
   ]
  },
  {
   "cell_type": "code",
   "execution_count": 41,
   "id": "e35d4537-3b14-4ee6-908c-69337771535f",
   "metadata": {},
   "outputs": [],
   "source": [
    "convidados = [\"bruna fava\",\"carla miranda\",\"mariana jesus\",\"yan barbosa\",\"joao gomes\",\"felipe amorim\"]"
   ]
  },
  {
   "cell_type": "code",
   "execution_count": 42,
   "id": "16a5c732-2972-4ad9-a024-c59f2284722f",
   "metadata": {},
   "outputs": [
    {
     "name": "stdin",
     "output_type": "stream",
     "text": [
      "Digite o nome completo do convidado: yan barbosa\n"
     ]
    }
   ],
   "source": [
    "n = input(\"Digite o nome completo do convidado:\")"
   ]
  },
  {
   "cell_type": "code",
   "execution_count": 48,
   "id": "3664cb9d-6c47-4666-943c-d0738e43044e",
   "metadata": {},
   "outputs": [
    {
     "name": "stdout",
     "output_type": "stream",
     "text": [
      "O convidado\u001b[lmyan barbosa\u001b foi encontrado na posição 3\n"
     ]
    }
   ],
   "source": [
    "i = buscar_convidado(n,convidados)\n",
    "if i == -1:\n",
    "    print(\"Convidado não encontrado\")\n",
    "else:\n",
    "    print(f\"O convidado {n} foi encontrado na posição {i}\")"
   ]
  },
  {
   "cell_type": "markdown",
   "id": "4f8e19e0-cd99-48aa-b2cc-e64465e7f166",
   "metadata": {},
   "source": [
    "# Projeto 1\n",
    "## Projeto 2\n",
    "### Projeto 3"
   ]
  },
  {
   "cell_type": "code",
   "execution_count": null,
   "id": "225a6c81-a01f-4046-95df-03280f05fa10",
   "metadata": {},
   "outputs": [],
   "source": []
  }
 ],
 "metadata": {
  "kernelspec": {
   "display_name": "Python 3 (ipykernel)",
   "language": "python",
   "name": "python3"
  },
  "language_info": {
   "codemirror_mode": {
    "name": "ipython",
    "version": 3
   },
   "file_extension": ".py",
   "mimetype": "text/x-python",
   "name": "python",
   "nbconvert_exporter": "python",
   "pygments_lexer": "ipython3",
   "version": "3.13.5"
  }
 },
 "nbformat": 4,
 "nbformat_minor": 5
}
